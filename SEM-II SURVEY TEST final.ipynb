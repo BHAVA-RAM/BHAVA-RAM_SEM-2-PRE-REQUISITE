{
 "cells": [
  {
   "cell_type": "code",
   "execution_count": 6,
   "id": "fe446a16-8343-4595-ad65-15e27d3feefd",
   "metadata": {},
   "outputs": [],
   "source": [
    "#--------------1--------------------\n",
    "\n",
    "import math\n",
    "a=[]\n",
    "for i in range(1,21):\n",
    "  a.append(i)\n",
    "s=0\n",
    "s2=0\n",
    "t=0\n",
    "p=1\n",
    "for i in range(10):\n",
    "    s=s+a[2*i+1]\n",
    "for i in range(10):\n",
    "    p=p*a[2*i]\n",
    "for i in range(20):\n",
    "    t=t+a[i]\n",
    "mean=t/len(a)\n",
    "for i in range(20):\n",
    "    s2=s2+a[i]**2\n",
    "v=(s2/len(a))-(s/len(a))**2\n",
    "sd=math.sqrt(v)\n",
    "median=(a[10] + a[9])/2\n",
    "#sd=standard deviation"
   ]
  },
  {
   "cell_type": "code",
   "execution_count": 43,
   "id": "82a79b48-c079-4c42-af4a-d801fac6525d",
   "metadata": {},
   "outputs": [
    {
     "name": "stdout",
     "output_type": "stream",
     "text": [
      "True list\n",
      "False string\n",
      "False tuple\n",
      "True dictionary\n"
     ]
    }
   ],
   "source": [
    "#output --->\"false {datatype}\" gives that the provided datatype is immutable \n",
    "#output---> \"True  {datatype}\" gives that the provided datatype is mutable \n",
    "#--------------2-----------------------\n",
    "string_iitgn='i_am_student_of_iit_gandhinagar'\n",
    "list_iitgn=['i','am','student','of','iit','gandhinagar']\n",
    "tuple_iitgn=('i','am','student','of','iit','gandhinagar')\n",
    "dictionary_iitgn={'iitgn':'iit_gandhinagar','id':'identification'}\n",
    "try:\n",
    "    list_iitgn[2]=2\n",
    "    print(True,end=\" list\\n\")\n",
    "except:\n",
    "    print(False,end=\" list\\n\")\n",
    "try:\n",
    "    string_iitgn[2]=2 \n",
    "    print(True,end=\" string\\n\")\n",
    "except:\n",
    "    print(False,end=\" string\\n\")\n",
    "try:\n",
    "    tuple_iitgn[2]='iit'\n",
    "    print(True,end=\" tuple\\n\")\n",
    "except:\n",
    "    print(False,end=\" tuple\\n\")\n",
    "try:\n",
    "    dictionary_iitgn['id']='iitgn'\n",
    "    print(True,end=' dictionary\\n')\n",
    "except:\n",
    "    print(False,end=' dictionary\\n')"
   ]
  },
  {
   "cell_type": "code",
   "execution_count": 3,
   "id": "f6456ab4-4dd7-47fa-9f47-210814d5f032",
   "metadata": {},
   "outputs": [
    {
     "name": "stdin",
     "output_type": "stream",
     "text": [
      " 3\n"
     ]
    },
    {
     "name": "stdout",
     "output_type": "stream",
     "text": [
      "[0, 1, 1]\n"
     ]
    },
    {
     "data": {
      "text/plain": [
       "[<matplotlib.lines.Line2D at 0x254ab1cf0e0>]"
      ]
     },
     "execution_count": 3,
     "metadata": {},
     "output_type": "execute_result"
    },
    {
     "data": {
      "image/png": "[encoded data removed]",
      "text/plain": [
       "<Figure size 640x480 with 1 Axes>"
      ]
     },
     "metadata": {},
     "output_type": "display_data"
    }
   ],
   "source": [
    "#------------3----------\n",
    "import matplotlib.pyplot as plt\n",
    "z=[0,1]\n",
    "a=0\n",
    "b=1\n",
    "n=int(input())\n",
    "for i in range(n-2):\n",
    "    temp=b\n",
    "    b=b+a\n",
    "    a=temp\n",
    "    z.append(b)\n",
    "if n==1:\n",
    "    print(0)\n",
    "elif n==2:\n",
    "    print(1)\n",
    "else:\n",
    "    print(z)\n",
    "plt.plot(z)"
   ]
  },
  {
   "cell_type": "code",
   "execution_count": null,
   "id": "8fe121f8-2db1-4dc0-839d-aca541fda931",
   "metadata": {},
   "outputs": [],
   "source": [
    "#------------4------------\n",
    "a=[3,5,7,9,11,13]\n",
    "a.insert(3,6)\n",
    "a.remove(7)\n",
    "reverse_list=a[::-1]\n",
    "a.sort()\n",
    "mean=sum(a)/len(a)\n",
    "if len(a)%2==0:\n",
    "    median=(a[len(a)//2]+a[len(a)//2-1])/2\n",
    "else:\n",
    "    median=a[(len(a)+1)//2]"
   ]
  },
  {
   "cell_type": "code",
   "execution_count": 5,
   "id": "8bf9faad-5682-4bee-b580-2e3c7aa5e7a8",
   "metadata": {},
   "outputs": [
    {
     "name": "stdin",
     "output_type": "stream",
     "text": [
      " \"10,20\"\n"
     ]
    },
    {
     "name": "stdout",
     "output_type": "stream",
     "text": [
      "10\n",
      "20\n"
     ]
    },
    {
     "data": {
      "text/plain": [
       "(array([1., 0., 0., 0., 0., 0., 0., 0., 0., 1.]),\n",
       " array([10., 11., 12., 13., 14., 15., 16., 17., 18., 19., 20.]),\n",
       " <BarContainer object of 10 artists>)"
      ]
     },
     "execution_count": 5,
     "metadata": {},
     "output_type": "execute_result"
    },
    {
     "data": {
      "image/png": "[encoded data removed]",
      "text/plain": [
       "<Figure size 640x480 with 1 Axes>"
      ]
     },
     "metadata": {},
     "output_type": "display_data"
    }
   ],
   "source": [
    "#----------5----------\n",
    "import matplotlib.pyplot as plt \n",
    "a=input()\n",
    "a=a.replace('\"','')\n",
    "a=a.split(\",\")\n",
    "a=[int(i) for i in a]\n",
    "mean=sum(a)/len(a)\n",
    "a.sort()\n",
    "print(a[0])\n",
    "print(a[len(a)-1])\n",
    "plt.hist(a)"
   ]
  },
  {
   "cell_type": "code",
   "execution_count": null,
   "id": "faf3b270-24e3-42e4-910f-a14805bf2384",
   "metadata": {},
   "outputs": [],
   "source": [
    "#------6-----------\n",
    "t=input()\n",
    "t=t.replace(' ','')\n",
    "t=t.lower()\n",
    "a=''\n",
    "for i in range(len(t)):\n",
    "    a=a+t[len(t)-i-1]\n",
    "if t==a:\n",
    "    print('True')\n",
    "else:\n",
    "    print('False')"
   ]
  },
  {
   "cell_type": "code",
   "execution_count": null,
   "id": "9a957413-3b72-4181-bcb6-0bfb35a5cd39",
   "metadata": {},
   "outputs": [],
   "source": [
    "#----------7--------------\n",
    "import matplotlib.pyplot as plt\n",
    "a={'s1':89,'s2':99,'s3':69,'s4':87,'s5':70,'s6':77}\n",
    "s=sum(a.values())\n",
    "avg=s/len(a)\n",
    "for i in a.keys():\n",
    "    if a[i]>=avg:\n",
    "        print(i)\n",
    "plt.bar(a.keys(),a.values())"
   ]
  },
  {
   "cell_type": "code",
   "execution_count": 38,
   "id": "2e7edc0b-7db9-400f-b452-d96f2ed961d3",
   "metadata": {},
   "outputs": [
    {
     "data": {
      "text/plain": [
       "<matplotlib.collections.PathCollection at 0x1f0f3801d00>"
      ]
     },
     "execution_count": 38,
     "metadata": {},
     "output_type": "execute_result"
    },
    {
     "data": {
      "image/png": "[encoded data removed]",
      "text/plain": [
       "<Figure size 640x480 with 1 Axes>"
      ]
     },
     "metadata": {},
     "output_type": "display_data"
    }
   ],
   "source": [
    "#----------8-------------\n",
    "import matplotlib.pyplot as plt\n",
    "l=[(1,1),(3,9),(5,25),(7,49),(9,81)]\n",
    "x=[]\n",
    "y=[]\n",
    "for i in l:\n",
    "    x.append(i[0])\n",
    "    y.append(i[1])\n",
    "plt.scatter(x,y)"
   ]
  },
  {
   "cell_type": "code",
   "execution_count": 4,
   "id": "9eb6f041-e112-4ec1-b6ce-f7ed7e63f123",
   "metadata": {},
   "outputs": [
    {
     "name": "stdout",
     "output_type": "stream",
     "text": [
      "{'b': 55, 'c': 82, 'd': 88, 'a': 10}\n"
     ]
    }
   ],
   "source": [
    "#-----------9---------------\n",
    "s={'a':10,'b':20,'c':25}\n",
    "d={'b':35,'c':57,'d':88}\n",
    "for i in s.keys():\n",
    "    c=0\n",
    "    if i not in d.keys():\n",
    "        d[i]=s[i]\n",
    "    else:\n",
    "        d[i]=d[i]+s[i]\n",
    "#d is merged dictionary\n",
    "print(d)"
   ]
  },
  {
   "cell_type": "code",
   "execution_count": 8,
   "id": "d169ffd3-d81d-42a7-aece-c244ac9a6b15",
   "metadata": {},
   "outputs": [
    {
     "name": "stdin",
     "output_type": "stream",
     "text": [
      " anbdagFSYUWV\n"
     ]
    },
    {
     "name": "stdout",
     "output_type": "stream",
     "text": [
      "{'a': 2, 'n': 1, 'b': 1, 'd': 1, 'g': 1, 'f': 1, 's': 1, 'y': 1, 'u': 1, 'w': 1, 'v': 1}\n"
     ]
    }
   ],
   "source": [
    "#------------10-----------\n",
    "import matplotlib as plt\n",
    "s=input()\n",
    "def lower(s):\n",
    "    s=s.lower()\n",
    "    return s\n",
    "s=lower(s)\n",
    "d=dict()\n",
    "for i in s:\n",
    "    c=0\n",
    "    if i not in d.keys():\n",
    "        for j in s:\n",
    "            if i==j:\n",
    "                c+=1\n",
    "        d[i]=c\n",
    "plt.bar(d.keys(),d.values())"
   ]
  },
  {
   "cell_type": "code",
   "execution_count": 14,
   "id": "2c19e12b-6acc-4d09-a8a0-a61502daf1cb",
   "metadata": {},
   "outputs": [
    {
     "name": "stdout",
     "output_type": "stream",
     "text": [
      "[1, 3, 5, 2, 6, 8, 9, 4, 7, 0]\n",
      "8.5\n"
     ]
    }
   ],
   "source": [
    "#------------11------------\n",
    "x=[1,3,5,2,6,3,8,6,9,4,6,2,8,7,4,5,1,3,8,0,3,6,2]\n",
    "s=[]\n",
    "for i in x:\n",
    "    if i not in s:\n",
    "        s.append(i)\n",
    "mean=sum(s)/len(s)\n",
    "print(s)\n",
    "if len(s)%2==0:\n",
    "    median=(s[(len(s)//2)]+s[(len(s)//2)+1])/2\n",
    "else:\n",
    "    median=s[(len(s)+1)//2]"
   ]
  },
  {
   "cell_type": "code",
   "execution_count": 8,
   "id": "3d631022-8981-443c-9820-61fa79582dec",
   "metadata": {},
   "outputs": [
    {
     "name": "stdout",
     "output_type": "stream",
     "text": [
      "NOteBook\n",
      "2\n"
     ]
    },
    {
     "data": {
      "text/plain": [
       "(array([1., 0., 1., 0., 0., 1., 0., 1., 0., 1.]),\n",
       " array([0. , 0.4, 0.8, 1.2, 1.6, 2. , 2.4, 2.8, 3.2, 3.6, 4. ]),\n",
       " <BarContainer object of 10 artists>)"
      ]
     },
     "execution_count": 8,
     "metadata": {},
     "output_type": "execute_result"
    },
    {
     "data": {
      "image/png": "[encoded data removed]",
      "text/plain": [
       "<Figure size 640x480 with 1 Axes>"
      ]
     },
     "metadata": {},
     "output_type": "display_data"
    }
   ],
   "source": [
    "#---------------12------------\n",
    "import matplotlib.pyplot as plt\n",
    "a=[\"ustring\",\"iPYTHON\",\"JUPYter\",\"NOteBook\",\"semester\"]\n",
    "l=''\n",
    "c=0\n",
    "for i in a:\n",
    "    if len(i)>len(l):\n",
    "        l=i\n",
    "for i in a:\n",
    "    if i[0].lower()=='a' or i[0].lower()=='e' or i[0].lower()=='i' or i[0].lower()=='o' or i[0].lower()=='u':\n",
    "        c=c+1\n",
    "print(l)\n",
    "print(c)\n",
    "plt.hist(a)\n",
    "#c=count of how many strings start with a vowel\n",
    "#l=longest string in the given list of strings"
   ]
  },
  {
   "cell_type": "code",
   "execution_count": 40,
   "id": "0122c7fb-9cfb-4e4d-aa34-96ba6e05984f",
   "metadata": {},
   "outputs": [
    {
     "name": "stdin",
     "output_type": "stream",
     "text": [
      " age\n"
     ]
    },
    {
     "data": {
      "text/plain": [
       "[{'name': 'Bob', 'age': 22}, {'name': 'Alice', 'age': 25}]"
      ]
     },
     "execution_count": 40,
     "metadata": {},
     "output_type": "execute_result"
    }
   ],
   "source": [
    "#----------13----------\n",
    "def sorting_dict(dictionary_list,key):\n",
    "    a=sorted(dictionary_list,key=lambda dictionary_list:dictionary_list[key])\n",
    "    return a\n",
    "d=[{'name': 'Alice', 'age': 25}, {'name': 'Bob', 'age': 22}]\n",
    "key=input()\n",
    "sorting_dict(d,key)"
   ]
  },
  {
   "cell_type": "code",
   "execution_count": 28,
   "id": "059ee722-a635-4c1e-ac99-42b40f186141",
   "metadata": {},
   "outputs": [
    {
     "name": "stdin",
     "output_type": "stream",
     "text": [
      " which is not youre\n"
     ]
    },
    {
     "data": {
      "text/plain": [
       "<BarContainer object of 4 artists>"
      ]
     },
     "execution_count": 28,
     "metadata": {},
     "output_type": "execute_result"
    },
    {
     "data": {
      "image/png": "[encoded data removed]",
      "text/plain": [
       "<Figure size 640x480 with 1 Axes>"
      ]
     },
     "metadata": {},
     "output_type": "display_data"
    }
   ],
   "source": [
    "#----------14---------\n",
    "s=input().split()\n",
    "x=[]\n",
    "for i in s:\n",
    "    x.append(i)\n",
    "for i in s:\n",
    "    if len(i)<4:\n",
    "      x.remove(i)\n",
    "s.sort()\n",
    "a=[len(i) for i in s]\n",
    "plt.bar(s,a)"
   ]
  },
  {
   "cell_type": "code",
   "execution_count": 5,
   "id": "09fdfa59-c8c4-4eb0-b31d-20077d62ddc8",
   "metadata": {},
   "outputs": [
    {
     "name": "stdout",
     "output_type": "stream",
     "text": [
      "['enlist', 'inlets']\n"
     ]
    }
   ],
   "source": [
    "#---------15-------\n",
    "word=\"listen\"\n",
    "word_list=[]\n",
    "for i in word:\n",
    "    word_list.append(i)\n",
    "words=['enlist','google','inlets','banana']\n",
    "x=[]\n",
    "for i in words:\n",
    "    c=0\n",
    "    for j in i:\n",
    "        if j in word_list:\n",
    "            c+=1\n",
    "        if c==len(i):\n",
    "            x.append(i)\n",
    "print(x)"
   ]
  },
  {
   "cell_type": "code",
   "execution_count": 25,
   "id": "1708164a-e1be-4ad4-8558-e3e4741de8ee",
   "metadata": {},
   "outputs": [
    {
     "name": "stdout",
     "output_type": "stream",
     "text": [
      "['adc', 23, 46, 'rst', 99, 'efg'] [23, 'rst'] ['adc', 46]\n"
     ]
    }
   ],
   "source": [
    "#--------16---------\n",
    "a=['adc',23,46,'rst']\n",
    "b=[23,'rst',99,'efg']\n",
    "union=[]\n",
    "intersection=[]\n",
    "symmetric_difference=[]\n",
    "for i in a:\n",
    "    union.append(i)\n",
    "    symmetric_difference.append(i)\n",
    "for j in b:\n",
    "    if j not in a:\n",
    "        union.append(j)\n",
    "for i in a:\n",
    "    for j in b:\n",
    "        if j==i:\n",
    "            intersection.append(i)\n",
    "for j in b:\n",
    "    if j in a:\n",
    "        symmetric_difference.remove(j)\n"
   ]
  },
  {
   "cell_type": "code",
   "execution_count": 58,
   "id": "c37eae59-3871-426e-abcb-c2f24ec28e50",
   "metadata": {},
   "outputs": [
    {
     "name": "stdout",
     "output_type": "stream",
     "text": [
      "55\n"
     ]
    }
   ],
   "source": [
    "#----------17---------\n",
    "import pandas as pd\n",
    "a=pd.read_csv(\"C:\\\\Users\\\\busab\\\\OneDrive\\\\Documentos\\\\num.txt\",sep=\" \")\n",
    "s=pd.DataFrame(a)\n",
    "print( s['num'].sum())"
   ]
  },
  {
   "cell_type": "code",
   "execution_count": 7,
   "id": "fe872802-81ae-47b4-878c-bcc0170b2b3d",
   "metadata": {},
   "outputs": [
    {
     "name": "stdout",
     "output_type": "stream",
     "text": [
      "frequent\n"
     ]
    },
    {
     "data": {
      "text/plain": [
       "<BarContainer object of 17 artists>"
      ]
     },
     "execution_count": 7,
     "metadata": {},
     "output_type": "execute_result"
    },
    {
     "data": {
      "image/png": "[encoded data removed]",
      "text/plain": [
       "<Figure size 640x480 with 1 Axes>"
      ]
     },
     "metadata": {},
     "output_type": "display_data"
    }
   ],
   "source": [
    "#-----18--------\n",
    "import pandas as pd\n",
    "a=pd.read_csv(\"C:\\\\Users\\\\busab\\\\OneDrive\\\\Documentos\\\\find.txt\")\n",
    "x=dict()\n",
    "l=0\n",
    "for i in a:\n",
    "    i=i.split()\n",
    "    for j in i:\n",
    "        if j in x.keys():\n",
    "            x[j]+=1\n",
    "        else:\n",
    "            x[j]=1\n",
    "for k in x.keys():\n",
    "    if x[k]>l:\n",
    "        l=x[k]\n",
    "for o in x.keys():\n",
    "    if x[o]==l:\n",
    "        print(o)# gives most frequent word in the provided text file\n",
    "import matplotlib.pyplot as plt\n",
    "plt.bar(x.keys(),x.values())"
   ]
  },
  {
   "cell_type": "code",
   "execution_count": 17,
   "id": "37f8c429-ec75-4e20-a356-7ac883d8419b",
   "metadata": {},
   "outputs": [
    {
     "name": "stdout",
     "output_type": "stream",
     "text": [
      "[32, 45, 42, 48, 10, 17, 40, 10, 30, 50, 45, 4, 11, 38, 41, 26, 9, 47, 2, 8, 11, 21, 13, 6, 21, 38, 11, 10, 44, 10, 9, 7, 37, 2, 10, 48, 29, 6, 13, 36, 6, 13, 11, 8, 28, 50, 29, 36, 46, 37, 19, 3, 26, 31, 16, 30, 45, 2, 4, 22, 41, 41, 37, 30, 7, 36, 32, 47, 6, 32, 3, 1, 47, 3, 17, 23, 40, 6, 22, 47, 36, 44, 43, 50, 43, 22, 26, 32, 33, 23, 29, 21, 5, 33, 39, 12, 17, 3, 20, 34]\n"
     ]
    },
    {
     "data": {
      "text/plain": [
       "(array([11., 16.,  8.,  6.,  8., 10.,  8., 12., 11., 10.]),\n",
       " array([ 1. ,  5.9, 10.8, 15.7, 20.6, 25.5, 30.4, 35.3, 40.2, 45.1, 50. ]),\n",
       " <BarContainer object of 10 artists>)"
      ]
     },
     "execution_count": 17,
     "metadata": {},
     "output_type": "execute_result"
    },
    {
     "data": {
      "image/png": "[encoded data removed]",
      "text/plain": [
       "<Figure size 640x480 with 1 Axes>"
      ]
     },
     "metadata": {},
     "output_type": "display_data"
    }
   ],
   "source": [
    "#----------19---------\n",
    "import numpy as np\n",
    "a=np.random.randint(1,51,100)\n",
    "with open('say.txt','w') as file:\n",
    "    for i in a:\n",
    "        file.write(str(i)+'\\n')\n",
    "s=open('say.txt','r')\n",
    "x=[int(num) for num in s]\n",
    "mean=sum(x)/len(a)\n",
    "print(x)\n",
    "import matplotlib.pyplot as plt\n",
    "plt.hist(x)"
   ]
  },
  {
   "cell_type": "code",
   "execution_count": 15,
   "id": "f266dd7f-e903-48b7-bb34-4d36f6f4dfda",
   "metadata": {},
   "outputs": [
    {
     "data": {
      "text/plain": [
       "[<matplotlib.lines.Line2D at 0x254abf29a60>]"
      ]
     },
     "execution_count": 15,
     "metadata": {},
     "output_type": "execute_result"
    },
    {
     "data": {
      "image/png": "[encoded data removed]",
      "text/plain": [
       "<Figure size 640x480 with 1 Axes>"
      ]
     },
     "metadata": {},
     "output_type": "display_data"
    }
   ],
   "source": [
    "#----------20------------\n",
    "import pandas as pd\n",
    "s=pd.read_csv(\"C:\\\\Users\\\\busab\\\\say.txt\")\n",
    "r=pd.DataFrame(s)\n",
    "r.to_csv(\"C:\\\\Users\\\\busab\\\\say.csv\")\n",
    "total=s['num'].sum()\n",
    "import matplotlib.pyplot as plt\n",
    "plt.plot(r['num'])"
   ]
  },
  {
   "cell_type": "code",
   "execution_count": 18,
   "id": "9e2d03b7-9f45-4976-a9dc-b9aaf0d00f3e",
   "metadata": {},
   "outputs": [
    {
     "name": "stdin",
     "output_type": "stream",
     "text": [
      " [11,23,34]\n"
     ]
    },
    {
     "name": "stdout",
     "output_type": "stream",
     "text": [
      "22.666666666666668 23 9.392668535736911\n"
     ]
    }
   ],
   "source": [
    "#----------21----------------\n",
    "import math\n",
    "a=input()\n",
    "a=a.replace(\"[\",\"\")\n",
    "a=a.replace(\"]\",\"\")\n",
    "a=a.split(\",\")\n",
    "a=[int(i) for i in a]\n",
    "mean=sum(a)/len(a)\n",
    "if len(a)%2==0:\n",
    "    median=(a[len(a)//2-1]+a[len(a)//2])/2\n",
    "else:\n",
    "    median=a[(len(a)+1)//2-1]\n",
    "c=0\n",
    "for i in a:\n",
    "    c=c+i**2\n",
    "standard_deviation=math.sqrt(c/len(a)-mean**2)"
   ]
  },
  {
   "cell_type": "code",
   "execution_count": 45,
   "id": "0d8f6531-3a6c-439d-8b72-f463640299d0",
   "metadata": {},
   "outputs": [
    {
     "name": "stdin",
     "output_type": "stream",
     "text": [
      " 23\n"
     ]
    },
    {
     "name": "stdout",
     "output_type": "stream",
     "text": [
      "Odd\n"
     ]
    }
   ],
   "source": [
    "#------------23-----------\n",
    "n=int(input())\n",
    "if n%2==0:\n",
    "    print('Even')\n",
    "else:\n",
    "    print('Odd')"
   ]
  },
  {
   "cell_type": "code",
   "execution_count": 45,
   "id": "41eea19e-a386-4832-91c5-5309253413b2",
   "metadata": {},
   "outputs": [
    {
     "name": "stdin",
     "output_type": "stream",
     "text": [
      " 56\n"
     ]
    },
    {
     "name": "stdout",
     "output_type": "stream",
     "text": [
      "D\n"
     ]
    },
    {
     "name": "stdin",
     "output_type": "stream",
     "text": [
      " \n"
     ]
    },
    {
     "ename": "ValueError",
     "evalue": "invalid literal for int() with base 10: ''",
     "output_type": "error",
     "traceback": [
      "\u001b[1;31m---------------------------------------------------------------------------\u001b[0m",
      "\u001b[1;31mValueError\u001b[0m                                Traceback (most recent call last)",
      "Cell \u001b[1;32mIn[45], line 3\u001b[0m\n\u001b[0;32m      1\u001b[0m \u001b[38;5;66;03m#------------24------------\u001b[39;00m\n\u001b[0;32m      2\u001b[0m \u001b[38;5;28;01mwhile\u001b[39;00m \u001b[38;5;28;01mTrue\u001b[39;00m:\n\u001b[1;32m----> 3\u001b[0m     n\u001b[38;5;241m=\u001b[39m\u001b[38;5;28mint\u001b[39m(\u001b[38;5;28minput\u001b[39m())\n\u001b[0;32m      4\u001b[0m     \u001b[38;5;28;01mif\u001b[39;00m \u001b[38;5;241m0\u001b[39m\u001b[38;5;241m<\u001b[39m\u001b[38;5;241m=\u001b[39mn\u001b[38;5;241m<\u001b[39m\u001b[38;5;241m=\u001b[39m\u001b[38;5;241m100\u001b[39m:\n\u001b[0;32m      5\u001b[0m         \u001b[38;5;28;01mif\u001b[39;00m n\u001b[38;5;241m>\u001b[39m\u001b[38;5;241m=\u001b[39m\u001b[38;5;241m35\u001b[39m:\n",
      "\u001b[1;31mValueError\u001b[0m: invalid literal for int() with base 10: ''"
     ]
    }
   ],
   "source": [
    "#------------24------------\n",
    "while True:\n",
    "    n=int(input())\n",
    "    if 0<=n<=100:\n",
    "        if n>=35:\n",
    "            print('D')\n",
    "        elif n>70:\n",
    "            print('C')\n",
    "        elif n>80:\n",
    "            print('B')\n",
    "        elif n>90:\n",
    "            print('A')"
   ]
  },
  {
   "cell_type": "code",
   "execution_count": 55,
   "id": "0cccbe7e-b5ac-43c0-927f-261a7d36896b",
   "metadata": {},
   "outputs": [
    {
     "name": "stdin",
     "output_type": "stream",
     "text": [
      " 2024\n"
     ]
    },
    {
     "name": "stdout",
     "output_type": "stream",
     "text": [
      "IT'S A LEAP YEAR\n"
     ]
    }
   ],
   "source": [
    "#-------------25------------\n",
    "n=int(input())\n",
    "if n%4==0 and n%100!=0:\n",
    "    print(\"IT'S A LEAP YEAR\")\n",
    "elif n%4==0 and n%100==0:\n",
    "    if n%400==0:\n",
    "        print(\"IT'S A LEAP YEAR\")\n",
    "    else:\n",
    "        print(\"NOT A LEAP YEAR\")\n",
    "else:\n",
    "    print(\"NOT A LEAP YEAR\")"
   ]
  }
 ],
 "metadata": {
  "kernelspec": {
   "display_name": "Python [conda env:base] *",
   "language": "python",
   "name": "conda-base-py"
  },
  "language_info": {
   "codemirror_mode": {
    "name": "ipython",
    "version": 3
   },
   "file_extension": ".py",
   "mimetype": "text/x-python",
   "name": "python",
   "nbconvert_exporter": "python",
   "pygments_lexer": "ipython3",
   "version": "3.12.7"
  }
 },
 "nbformat": 4,
 "nbformat_minor": 5
}
